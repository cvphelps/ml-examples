{
  "nbformat": 4,
  "nbformat_minor": 0,
  "metadata": {
    "colab": {
      "name": "PyTorch CNN MNIST",
      "provenance": [],
      "collapsed_sections": [],
      "include_colab_link": true
    },
    "kernelspec": {
      "name": "python3",
      "display_name": "Python 3"
    }
  },
  "cells": [
    {
      "cell_type": "markdown",
      "metadata": {
        "id": "view-in-github",
        "colab_type": "text"
      },
      "source": [
        "<a href=\"https://colab.research.google.com/github/cvphelps/ml-examples/blob/master/PyTorch_CNN_MNIST.ipynb\" target=\"_parent\"><img src=\"https://colab.research.google.com/assets/colab-badge.svg\" alt=\"Open In Colab\"/></a>"
      ]
    },
    {
      "cell_type": "markdown",
      "metadata": {
        "id": "FCbmQrWI9dku",
        "colab_type": "text"
      },
      "source": [
        "# Welcome!\n",
        "In this tutorial we'll walk through a simple convolutional neural network to classify the handwritten digits in MNIST using PyTorch.\n",
        "\n",
        "We’ll also see how we can use Weights and Biases to log our model's metrics, inspect its performance and share our findings about the best architecture for our neural network!\n",
        "\n",
        "Try forking this notebook and tweaking some hyperparameters to hone your intuition.\n",
        "\n",
        "All the results will be going into the [shared W&B project page](https://app.wandb.ai/wandb/pytorch-mnist).\n",
        "\n",
        "![alt text](https://i.imgur.com/8SPcpvn.png)"
      ]
    },
    {
      "cell_type": "markdown",
      "metadata": {
        "id": "ukX2ptqLfgOj",
        "colab_type": "text"
      },
      "source": [
        "## Setup"
      ]
    },
    {
      "cell_type": "markdown",
      "metadata": {
        "id": "haJFhFkjyzkq",
        "colab_type": "text"
      },
      "source": [
        "Here we add a few lines of code to:\n",
        "\n",
        "\n",
        "*   **pip install wandb** – Install the W&B library\n",
        "*   **import wandb** – Import the wandb library\n",
        "*   **wandb login** – Login to your W&B account so you can log all your metrics in one place\n",
        "*   **wandb.init()** – Initialize a new W&B run\n",
        "\n"
      ]
    },
    {
      "cell_type": "code",
      "metadata": {
        "id": "ZsueEW0Zdovz",
        "colab_type": "code",
        "colab": {}
      },
      "source": [
        "# WandB – Install the W&B library\n",
        "!pip install wandb -q"
      ],
      "execution_count": 0,
      "outputs": []
    },
    {
      "cell_type": "code",
      "metadata": {
        "id": "oewlztOSe5n4",
        "colab_type": "code",
        "colab": {}
      },
      "source": [
        "from __future__ import print_function\n",
        "import argparse\n",
        "import random # to set the python random seed\n",
        "import numpy # to set the numpy random seed\n",
        "import torch\n",
        "import torch.nn as nn\n",
        "import torch.nn.functional as F\n",
        "import torch.optim as optim\n",
        "from torchvision import datasets, transforms\n",
        "# Ignore excessive warnings\n",
        "import logging\n",
        "logging.propagate = False \n",
        "logging.getLogger().setLevel(logging.ERROR)\n",
        "\n",
        "# WandB – Import the wandb library\n",
        "import wandb"
      ],
      "execution_count": 0,
      "outputs": []
    },
    {
      "cell_type": "markdown",
      "metadata": {
        "id": "yEVU__kI9rwN",
        "colab_type": "text"
      },
      "source": [
        "The script will prompt you to create a free W&B account to track your model metrics and save your progress."
      ]
    },
    {
      "cell_type": "code",
      "metadata": {
        "id": "rsSGtmAVfMZk",
        "colab_type": "code",
        "colab": {}
      },
      "source": [
        "# WandB – Login to your wandb account so you can log all your metrics\n",
        "!wandb login"
      ],
      "execution_count": 0,
      "outputs": []
    },
    {
      "cell_type": "markdown",
      "metadata": {
        "id": "vKBFeByq9yDj",
        "colab_type": "text"
      },
      "source": [
        "# Defining a Model"
      ]
    },
    {
      "cell_type": "markdown",
      "metadata": {
        "id": "JklaxjJ-f0dl",
        "colab_type": "text"
      },
      "source": [
        "## Create Your Neural Network"
      ]
    },
    {
      "cell_type": "code",
      "metadata": {
        "id": "axH9Vd7igjO3",
        "colab_type": "code",
        "colab": {}
      },
      "source": [
        "class Net(nn.Module):\n",
        "    def __init__(self):\n",
        "        super(Net, self).__init__()\n",
        "        \n",
        "        # In our constructor, we define our neural network architecture that we'll use in the forward pass.\n",
        "        # Conv2d() adds a convolution layer that generates 2 dimensional feature maps to learn different aspects of our image\n",
        "        self.conv1 = nn.Conv2d(1, 10, kernel_size=5)\n",
        "        self.conv2 = nn.Conv2d(10, 20, kernel_size=5)\n",
        "        \n",
        "        # Dropout randomly turns off a percentage of neurons at each training step resulting\n",
        "        # in a more robust neural network that is resistant to overfitting\n",
        "        self.conv2_drop = nn.Dropout2d()\n",
        "        \n",
        "        # Linear(x,y) creates dense, fully connected layers with x inputs and y outputs\n",
        "        # Linear layers simply output the dot product of our inputs and weights.\n",
        "        self.fc1 = nn.Linear(320, 50)\n",
        "        self.fc2 = nn.Linear(50, 10)\n",
        "\n",
        "    def forward(self, x):\n",
        "        # Here we feed the feature maps from the convolutional layers into a max_pool2d layer.\n",
        "        # The max_pool2d layer reduces the size of the image representation our convolutional layers learnt,\n",
        "        # and in doing so it reduces the number of parameters and computations the network needs to perform.\n",
        "        # Finally we apply the relu activation function which gives us max(0, max_pool2d_output)\n",
        "        x = F.relu(F.max_pool2d(self.conv1(x), 2))\n",
        "        x = F.relu(F.max_pool2d(self.conv2_drop(self.conv2(x)), 2))\n",
        "        \n",
        "        # Reshapes x into size (-1, 320) so we can feed the convolution layer outputs into our fully connected layer\n",
        "        x = x.view(-1, 320)\n",
        "        \n",
        "        # We apply the relu activation function and dropout to the output of our fully connected layers\n",
        "        x = F.relu(self.fc1(x))\n",
        "        x = F.dropout(x, training=self.training)\n",
        "        x = self.fc2(x)\n",
        "        \n",
        "        # Finally we apply the softmax function to squash the probabilities of each class (0-9) and ensure they add to 1.\n",
        "        return F.log_softmax(x, dim=1)"
      ],
      "execution_count": 0,
      "outputs": []
    },
    {
      "cell_type": "markdown",
      "metadata": {
        "id": "JhwLCOvOf5AO",
        "colab_type": "text"
      },
      "source": [
        "## Train Your Neural Network"
      ]
    },
    {
      "cell_type": "code",
      "metadata": {
        "id": "GesC-mYBNt1e",
        "colab_type": "code",
        "colab": {}
      },
      "source": [
        "def train(args, model, device, train_loader, optimizer, epoch):\n",
        "    # Switch model to training mode. This is necessary for layers like dropout, batchnorm etc which behave differently in training and evaluation mode\n",
        "    model.train()\n",
        "    \n",
        "    # We loop over the data iterator, and feed the inputs to the network and adjust the weights.\n",
        "    for batch_idx, (data, target) in enumerate(train_loader):\n",
        "        if batch_idx > 20:\n",
        "          break\n",
        "        # Load the input features and labels from the training dataset\n",
        "        data, target = data.to(device), target.to(device)\n",
        "        \n",
        "        # Reset the gradients to 0 for all learnable weight parameters\n",
        "        optimizer.zero_grad()\n",
        "        \n",
        "        # Forward pass: Pass image data from training dataset, make predictions about class image belongs to (0-9 in this case)\n",
        "        output = model(data)\n",
        "        \n",
        "        # Define our loss function, and compute the loss\n",
        "        loss = F.nll_loss(output, target)\n",
        "        \n",
        "        # Backward pass: compute the gradients of the loss w.r.t. the model's parameters\n",
        "        loss.backward()\n",
        "        \n",
        "        # Update the neural network weights\n",
        "        optimizer.step()"
      ],
      "execution_count": 0,
      "outputs": []
    },
    {
      "cell_type": "markdown",
      "metadata": {
        "id": "JZgbzo6IgAZK",
        "colab_type": "text"
      },
      "source": [
        "## Evaluate Your Neural Network\n",
        "\n",
        "Here we add a line of code to:\n",
        "\n",
        "*   **wandb.log()** – Log your metrics (accuracy, loss and epoch) and examples of images along with the predicted and true labels. This allows you to visualize your neural network's performance over time.\n",
        "*   **wandb.watch()** – Fetch all layer dimensions, gradients, model parameters and log them automatically to your dashboard.\n",
        "*   **wandb.save()** – Save the model checkpoint."
      ]
    },
    {
      "cell_type": "code",
      "metadata": {
        "id": "nrpuF3ZQNt5W",
        "colab_type": "code",
        "colab": {}
      },
      "source": [
        "def test(args, model, device, test_loader):\n",
        "    # Switch model to evaluation mode. This is necessary for layers like dropout, batchnorm etc which behave differently in training and evaluation mode\n",
        "    model.eval()\n",
        "    test_loss = 0\n",
        "    correct = 0\n",
        "\n",
        "    example_images = []\n",
        "    with torch.no_grad():\n",
        "        for data, target in test_loader:\n",
        "            # Load the input features and labels from the test dataset\n",
        "            data, target = data.to(device), target.to(device)\n",
        "            \n",
        "            # Make predictions: Pass image data from test dataset, make predictions about class image belongs to (0-9 in this case)\n",
        "            output = model(data)\n",
        "            \n",
        "            # Compute the loss sum up batch loss\n",
        "            test_loss += F.nll_loss(output, target, reduction='sum').item()\n",
        "            \n",
        "            # Get the index of the max log-probability\n",
        "            pred = output.max(1, keepdim=True)[1]\n",
        "            correct += pred.eq(target.view_as(pred)).sum().item()\n",
        "            \n",
        "            # WandB – Log images in your test dataset automatically, along with predicted and true labels by passing pytorch tensors with image data into wandb.Image\n",
        "            example_images.append(wandb.Image(\n",
        "                data[0], caption=\"Pred: {} Truth: {}\".format(pred[0].item(), target[0])))\n",
        "    \n",
        "    # WandB – wandb.log(a_dict) logs the keys and values of the dictionary passed in and associates the values with a step.\n",
        "    # You can log anything by passing it to wandb.log, including histograms, custom matplotlib objects, images, video, text, tables, html, pointclouds and other 3D objects.\n",
        "    # Here we use it to log test accuracy, loss and some test images (along with their true and predicted labels).\n",
        "    wandb.log({\n",
        "        \"Examples\": example_images,\n",
        "        \"Test Accuracy\": 100. * correct / len(test_loader.dataset),\n",
        "        \"Test Loss\": test_loss})"
      ],
      "execution_count": 0,
      "outputs": []
    },
    {
      "cell_type": "markdown",
      "metadata": {
        "id": "jH8yXrpKhDip",
        "colab_type": "text"
      },
      "source": [
        "# Train, Edit, and Retrain\n",
        "Run wandb.init() each time you start a new run. For this tutorial we're logging results to an open, shared project called \"[pytorch-mnist](https://app.wandb.ai/wandb/pytorch-mnist/)\" so everyone's results go into the same project. (The entity refers to the team name this project is under.)\n",
        "\n",
        "You can see your classmates' runs on the [project page](https://app.wandb.ai/wandb/pytorch-mnist/).\n",
        "\n",
        "Edit the config values to change hyperparameters. Then re-run these two cells below to train a new version of the model.\n",
        "\n",
        "## Initialize Hyperparameters\n",
        "\n",
        "Here we add a few lines of code to:\n",
        "\n",
        "\n",
        "*   **wandb.config** – Save all your hyperparameters in a config object. This lets you sort and search through your runs by hyperparameter values.\n",
        "\n",
        "We encourage you to tweak these and run this notebook again to see if you can achieve improved model performance!"
      ]
    },
    {
      "cell_type": "code",
      "metadata": {
        "id": "SBW-4guHgjwK",
        "colab_type": "code",
        "colab": {
          "base_uri": "https://localhost:8080/",
          "height": 35
        },
        "outputId": "20c6e0dd-ee82-45c4-b2a7-29bc6fd72691"
      },
      "source": [
        "# WandB – Initialize a new run\n",
        "wandb.init(entity=\"wandb\", project=\"pytorch-mnist\")\n",
        "wandb.watch_called = False # Re-run the model without restarting the runtime, unnecessary after our next release\n",
        "\n",
        "# WandB – Config is a variable that holds and saves hyperparameters and inputs\n",
        "config = wandb.config          # Initialize config\n",
        "config.batch_size = 32          # input batch size for training (default: 64)\n",
        "config.test_batch_size = 24    # input batch size for testing (default: 1000)\n",
        "config.epochs = 60             # number of epochs to train (default: 10)\n",
        "config.lr = 0.1               # learning rate (default: 0.01)\n",
        "config.momentum = 0.1          # SGD momentum (default: 0.5) \n",
        "config.no_cuda = False         # disables CUDA training\n",
        "config.seed = 42               # random seed (default: 42)\n",
        "config.log_interval = 10     # how many batches to wait before logging training status"
      ],
      "execution_count": 20,
      "outputs": [
        {
          "output_type": "display_data",
          "data": {
            "text/html": [
              "\n",
              "            Notebook configured with <a href=\"https://wandb.com\" target=\"_blank\">W&B</a>. You can <a href=\"https://app.wandb.ai/wandb/pytorch-mnist/runs/48mylstm\" target=\"_blank\">open</a> the run page, or call <code>%%wandb</code>\n",
              "            in a cell containing your training loop to display live results.  Learn more in our <a href=\"https://docs.wandb.com/docs/integrations/jupyter.html\" target=\"_blank\">docs</a>.\n",
              "        "
            ],
            "text/plain": [
              "<IPython.core.display.HTML object>"
            ]
          },
          "metadata": {
            "tags": []
          }
        }
      ]
    },
    {
      "cell_type": "code",
      "metadata": {
        "id": "bZpt5W2NNl6S",
        "colab_type": "code",
        "outputId": "ff42f4e0-bb3b-462d-f91b-d7dc10da9da5",
        "colab": {
          "base_uri": "https://localhost:8080/",
          "height": 440
        }
      },
      "source": [
        "%%wandb \n",
        "## WandB — show a preview of live graphs here in the notebook\n",
        "\n",
        "def main():\n",
        "    use_cuda = not config.no_cuda and torch.cuda.is_available()\n",
        "    device = torch.device(\"cuda\" if use_cuda else \"cpu\")\n",
        "    kwargs = {'num_workers': 1, 'pin_memory': True} if use_cuda else {}\n",
        "    \n",
        "    # Set random seeds and deterministic pytorch for reproducibility\n",
        "    random.seed(config.seed)       # python random seed\n",
        "    torch.manual_seed(config.seed) # pytorch random seed\n",
        "    numpy.random.seed(config.seed) # numpy random seed\n",
        "    torch.backends.cudnn.deterministic = True\n",
        "\n",
        "    # Load the dataset: We're training our CNN on MNIST which consists of black and white images of hand-written digits, 0 to 9.\n",
        "    train_loader = torch.utils.data.DataLoader(\n",
        "        datasets.MNIST('../data', train=True, download=True,\n",
        "                       transform=transforms.Compose([\n",
        "                           transforms.ToTensor(),\n",
        "                           transforms.Normalize((0.1307,), (0.3081,))\n",
        "                       ])),\n",
        "        batch_size=config.batch_size, shuffle=True, **kwargs)\n",
        "    test_loader = torch.utils.data.DataLoader(\n",
        "        datasets.MNIST('../data', train=False, transform=transforms.Compose([\n",
        "            transforms.ToTensor(),\n",
        "            transforms.Normalize((0.1307,), (0.3081,))\n",
        "        ])),\n",
        "        batch_size=config.test_batch_size, shuffle=True, **kwargs)\n",
        "\n",
        "    # Initialize our model, recursively go over all modules and convert their parameters and buffers to CUDA tensors (if device is set to cuda)\n",
        "    model = Net().to(device)\n",
        "    optimizer = optim.SGD(model.parameters(), lr=config.lr,\n",
        "                          momentum=config.momentum)\n",
        "    \n",
        "    # WandB – wandb.watch() automatically fetches all layer dimensions, gradients, model parameters and logs them automatically to your dashboard.\n",
        "    # Using log=\"all\" log histograms of parameter values in addition to gradients\n",
        "    wandb.watch(model, log=\"all\")\n",
        "\n",
        "    for epoch in range(1, config.epochs + 1):\n",
        "        train(config, model, device, train_loader, optimizer, epoch)\n",
        "        test(config, model, device, test_loader)\n",
        "        \n",
        "    # WandB – Save the model checkpoint. This automatically saves a file to the cloud and associates it with the current run.\n",
        "    torch.save(model.state_dict(), \"model.h5\")\n",
        "    wandb.save('model.h5')\n",
        "\n",
        "if __name__ == '__main__':\n",
        "    main()"
      ],
      "execution_count": 0,
      "outputs": [
        {
          "output_type": "display_data",
          "data": {
            "text/html": [
              "<iframe src=\"https://app.wandb.ai/wandb/pytorch-mnist/runs/48mylstm?jupyter=true&state=paused\" style=\"border:none;width:100%;height:420px\">\n",
              "        </iframe>"
            ],
            "text/plain": [
              "<wandb.jupyter.Run at 0x7f2815d01b70>"
            ]
          },
          "metadata": {
            "tags": []
          }
        }
      ]
    },
    {
      "cell_type": "markdown",
      "metadata": {
        "id": "I7sKQuBBgFZ_",
        "colab_type": "text"
      },
      "source": [
        "Check out the [project page](https://app.wandb.ai/wandb/pytorch-mnist/) to see your results coming in to the shared project.\n",
        "\n",
        "Take a look at the graphs tracking loss and accuracy across different experiments trying to develop a more accurate model. Press 'option+space' to expand the runs table, comparing all the results from everyone who has tried this script. Next, See if you can tweak the hyperparameters in the \"Initialize Hyperparameters\" section. Your goal is to maximize Test Accuracy. Good luck!"
      ]
    },
    {
      "cell_type": "markdown",
      "metadata": {
        "id": "43mWDdCzZZeH",
        "colab_type": "text"
      },
      "source": [
        "# More about W&B\n",
        "We're always free for academics and open source projects. Email carey@wandb.com with any questions or feature suggestions.\n",
        "\n",
        "\n",
        "\n",
        "**Resources**\n",
        "1. [Documentation](http://docs.wandb.com) - Python docs\n",
        "2. [Gallery](https://app.wandb.ai/gallery) - example reports in W&B"
      ]
    }
  ]
}